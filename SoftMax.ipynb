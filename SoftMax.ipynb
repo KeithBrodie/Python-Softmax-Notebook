{
 "cells": [
  {
   "cell_type": "markdown",
   "metadata": {},
   "source": [
    "# SoftMax Function"
   ]
  },
  {
   "cell_type": "markdown",
   "metadata": {},
   "source": [
    "See [Wikipedia](https://en.wikipedia.org/wiki/Softmax_function)"
   ]
  },
  {
   "cell_type": "code",
   "execution_count": 1,
   "metadata": {
    "collapsed": true
   },
   "outputs": [],
   "source": [
    "import numpy as np\n",
    "\n",
    "def softmax(x):\n",
    "    \"\"\" softmax with protection against overflow \"\"\"\n",
    "    y = np.exp(np.clip(a=x,a_min=None,a_max=700))\n",
    "    sy = np.sum(y)\n",
    "    if sy > 0:\n",
    "        y /= sy\n",
    "    return y"
   ]
  },
  {
   "cell_type": "markdown",
   "metadata": {},
   "source": [
    "Example 1"
   ]
  },
  {
   "cell_type": "code",
   "execution_count": 2,
   "metadata": {},
   "outputs": [
    {
     "name": "stdout",
     "output_type": "stream",
     "text": [
      "Input\n",
      "[-0.38330287  0.0352519  -0.4601353   0.19733624 -0.01689902 -0.36418888\n",
      " -1.053575   -0.23397739 -0.15703874  0.81712437]\n",
      "Output\n",
      "[ 0.07172116  0.1089992   0.06641702  0.12817864  0.10346047  0.07310522\n",
      "  0.03669035  0.08327191  0.08993165  0.23822439]\n",
      "Sum of Probabilities\n",
      "1.0\n"
     ]
    }
   ],
   "source": [
    "x = np.random.randn(10)\n",
    "print ('Input')\n",
    "print(x)\n",
    "y = softmax(x)\n",
    "print ('Output')\n",
    "print(y)\n",
    "print ('Sum of Probabilities')\n",
    "print(np.sum(y))"
   ]
  },
  {
   "cell_type": "markdown",
   "metadata": {},
   "source": [
    "Example 2"
   ]
  },
  {
   "cell_type": "code",
   "execution_count": 3,
   "metadata": {},
   "outputs": [
    {
     "name": "stdout",
     "output_type": "stream",
     "text": [
      "Input\n",
      "[[ 0.05885673  1.26800194 -0.2960996 ]\n",
      " [-0.55166502  0.64390295  1.03041383]\n",
      " [-0.02726051 -1.58588675  1.95102733]]\n",
      "Output\n",
      "[[ 0.05625461  0.18848778  0.03944596]\n",
      " [ 0.03055005  0.10098118  0.14862778]\n",
      " [ 0.05161285  0.01086063  0.37317915]]\n",
      "Sum of Probabilities\n",
      "1.0\n"
     ]
    }
   ],
   "source": [
    "x = np.random.randn(3,3)\n",
    "print ('Input')\n",
    "print(x)\n",
    "y = softmax(x)\n",
    "print ('Output')\n",
    "print(y)\n",
    "print ('Sum of Probabilities')\n",
    "print(np.sum(y))"
   ]
  },
  {
   "cell_type": "code",
   "execution_count": null,
   "metadata": {
    "collapsed": true
   },
   "outputs": [],
   "source": []
  }
 ],
 "metadata": {
  "kernelspec": {
   "display_name": "Python 3",
   "language": "python",
   "name": "python3"
  },
  "language_info": {
   "codemirror_mode": {
    "name": "ipython",
    "version": 3
   },
   "file_extension": ".py",
   "mimetype": "text/x-python",
   "name": "python",
   "nbconvert_exporter": "python",
   "pygments_lexer": "ipython3",
   "version": "3.6.3"
  }
 },
 "nbformat": 4,
 "nbformat_minor": 2
}
