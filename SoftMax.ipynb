{
 "cells": [
  {
   "cell_type": "markdown",
   "metadata": {},
   "source": [
    "# SoftMax Function"
   ]
  },
  {
   "cell_type": "markdown",
   "metadata": {},
   "source": [
    "See [Wikipedia](https://en.wikipedia.org/wiki/Softmax_function)"
   ]
  },
  {
   "cell_type": "code",
   "execution_count": 5,
   "metadata": {
    "collapsed": true
   },
   "outputs": [],
   "source": [
    "import numpy as np\n",
    "\n",
    "def softmax(x):\n",
    "    y = np.exp(x)\n",
    "    sy = np.sum(y)\n",
    "    if sy > 0:\n",
    "        y /= sy\n",
    "    return y"
   ]
  },
  {
   "cell_type": "markdown",
   "metadata": {},
   "source": [
    "Example 1"
   ]
  },
  {
   "cell_type": "code",
   "execution_count": 6,
   "metadata": {},
   "outputs": [
    {
     "name": "stdout",
     "output_type": "stream",
     "text": [
      "Input\n",
      "[-1.68875668  1.13138837 -0.2295312  -0.07165205 -1.06620531 -0.36520606\n",
      "  1.60450996  0.67538308 -0.73227855  0.98578282]\n",
      "Output\n",
      "[ 0.01143974  0.19195067  0.04922092  0.05763892  0.02131998  0.04297609\n",
      "  0.30808015  0.12166035  0.02977209  0.16594109]\n",
      "Sum of Probabilities\n",
      "1.0\n"
     ]
    }
   ],
   "source": [
    "x = np.random.randn(10)\n",
    "print ('Input')\n",
    "print(x)\n",
    "y = softmax(x)\n",
    "print ('Output')\n",
    "print(y)\n",
    "print ('Sum of Probabilities')\n",
    "print(np.sum(y))"
   ]
  },
  {
   "cell_type": "markdown",
   "metadata": {},
   "source": [
    "Example 2"
   ]
  },
  {
   "cell_type": "code",
   "execution_count": 7,
   "metadata": {},
   "outputs": [
    {
     "name": "stdout",
     "output_type": "stream",
     "text": [
      "Input\n",
      "[[ 2.28805953  0.12368768 -1.26776555]\n",
      " [ 1.15383985 -0.45353901 -0.67081265]\n",
      " [ 0.6426464   0.07979089  1.44301964]]\n",
      "Output\n",
      "[[ 0.4321967   0.04962571  0.01234259]\n",
      " [ 0.13902602  0.02786252  0.02242124]\n",
      " [ 0.08338494  0.04749442  0.18564587]]\n",
      "Sum of Probabilities\n",
      "1.0\n"
     ]
    }
   ],
   "source": [
    "x = np.random.randn(3,3)\n",
    "print ('Input')\n",
    "print(x)\n",
    "y = softmax(x)\n",
    "print ('Output')\n",
    "print(y)\n",
    "print ('Sum of Probabilities')\n",
    "print(np.sum(y))"
   ]
  },
  {
   "cell_type": "code",
   "execution_count": null,
   "metadata": {
    "collapsed": true
   },
   "outputs": [],
   "source": []
  }
 ],
 "metadata": {
  "kernelspec": {
   "display_name": "Python 3",
   "language": "python",
   "name": "python3"
  },
  "language_info": {
   "codemirror_mode": {
    "name": "ipython",
    "version": 3
   },
   "file_extension": ".py",
   "mimetype": "text/x-python",
   "name": "python",
   "nbconvert_exporter": "python",
   "pygments_lexer": "ipython3",
   "version": "3.5.2"
  }
 },
 "nbformat": 4,
 "nbformat_minor": 2
}
